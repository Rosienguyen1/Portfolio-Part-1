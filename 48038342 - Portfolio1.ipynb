{
 "cells": [
  {
   "cell_type": "markdown",
   "id": "80cead89-d5e4-4ec4-b4b3-2dfe19d81f8a",
   "metadata": {},
   "source": [
    "# Portfolio_1\n",
    "\n",
    "\n"
   ]
  },
  {
   "cell_type": "code",
   "execution_count": 4,
   "id": "628589c3-9ae6-4c65-9927-b1cf5a235e2b",
   "metadata": {},
   "outputs": [],
   "source": [
    "your_name = \"Rosie Nguyen\"\n",
    "your_student_id = \"48038342\""
   ]
  },
  {
   "cell_type": "code",
   "execution_count": 5,
   "id": "ad77660c-6a72-4147-89b4-851fd7865b8d",
   "metadata": {},
   "outputs": [],
   "source": [
    "import pandas as pd\n",
    "import matplotlib.pyplot as plt\n",
    "%matplotlib inline\n",
    "import numpy as np\n",
    "import seaborn as sns"
   ]
  },
  {
   "cell_type": "code",
   "execution_count": 6,
   "id": "913521e0-0b47-496f-832f-7b7c65a2f4ed",
   "metadata": {},
   "outputs": [
    {
     "data": {
      "text/html": [
       "<div>\n",
       "<style scoped>\n",
       "    .dataframe tbody tr th:only-of-type {\n",
       "        vertical-align: middle;\n",
       "    }\n",
       "\n",
       "    .dataframe tbody tr th {\n",
       "        vertical-align: top;\n",
       "    }\n",
       "\n",
       "    .dataframe thead th {\n",
       "        text-align: right;\n",
       "    }\n",
       "</style>\n",
       "<table border=\"1\" class=\"dataframe\">\n",
       "  <thead>\n",
       "    <tr style=\"text-align: right;\">\n",
       "      <th></th>\n",
       "      <th>name</th>\n",
       "      <th>year</th>\n",
       "      <th>selling_price</th>\n",
       "      <th>km_driven</th>\n",
       "      <th>fuel</th>\n",
       "      <th>seller_type</th>\n",
       "      <th>transmission</th>\n",
       "      <th>owner</th>\n",
       "    </tr>\n",
       "  </thead>\n",
       "  <tbody>\n",
       "    <tr>\n",
       "      <th>0</th>\n",
       "      <td>Maruti 800 AC</td>\n",
       "      <td>2007.0</td>\n",
       "      <td>60000</td>\n",
       "      <td>70000</td>\n",
       "      <td>Petrol</td>\n",
       "      <td>Individual</td>\n",
       "      <td>Manual</td>\n",
       "      <td>First Owner</td>\n",
       "    </tr>\n",
       "    <tr>\n",
       "      <th>1</th>\n",
       "      <td>Maruti Wagon R LXI Minor</td>\n",
       "      <td>2007.0</td>\n",
       "      <td>135000</td>\n",
       "      <td>50000</td>\n",
       "      <td>Petrol</td>\n",
       "      <td>Individual</td>\n",
       "      <td>Manual</td>\n",
       "      <td>First Owner</td>\n",
       "    </tr>\n",
       "    <tr>\n",
       "      <th>2</th>\n",
       "      <td>Hyundai Verna 1.6 SX</td>\n",
       "      <td>2012.0</td>\n",
       "      <td>600000</td>\n",
       "      <td>100000</td>\n",
       "      <td>Diesel</td>\n",
       "      <td>Individual</td>\n",
       "      <td>Manual</td>\n",
       "      <td>First Owner</td>\n",
       "    </tr>\n",
       "    <tr>\n",
       "      <th>3</th>\n",
       "      <td>Datsun RediGO T Option</td>\n",
       "      <td>2017.0</td>\n",
       "      <td>250000</td>\n",
       "      <td>46000</td>\n",
       "      <td>Petrol</td>\n",
       "      <td>Individual</td>\n",
       "      <td>Manual</td>\n",
       "      <td>First Owner</td>\n",
       "    </tr>\n",
       "    <tr>\n",
       "      <th>4</th>\n",
       "      <td>Honda Amaze VX i-DTEC</td>\n",
       "      <td>2014.0</td>\n",
       "      <td>450000</td>\n",
       "      <td>141000</td>\n",
       "      <td>Diesel</td>\n",
       "      <td>Individual</td>\n",
       "      <td>Manual</td>\n",
       "      <td>Second Owner</td>\n",
       "    </tr>\n",
       "    <tr>\n",
       "      <th>...</th>\n",
       "      <td>...</td>\n",
       "      <td>...</td>\n",
       "      <td>...</td>\n",
       "      <td>...</td>\n",
       "      <td>...</td>\n",
       "      <td>...</td>\n",
       "      <td>...</td>\n",
       "      <td>...</td>\n",
       "    </tr>\n",
       "    <tr>\n",
       "      <th>4335</th>\n",
       "      <td>Hyundai i20 Magna 1.4 CRDi (Diesel)</td>\n",
       "      <td>2014.0</td>\n",
       "      <td>409999</td>\n",
       "      <td>80000</td>\n",
       "      <td>Diesel</td>\n",
       "      <td>Individual</td>\n",
       "      <td>Manual</td>\n",
       "      <td>Second Owner</td>\n",
       "    </tr>\n",
       "    <tr>\n",
       "      <th>4336</th>\n",
       "      <td>Hyundai i20 Magna 1.4 CRDi</td>\n",
       "      <td>2014.0</td>\n",
       "      <td>409999</td>\n",
       "      <td>80000</td>\n",
       "      <td>Diesel</td>\n",
       "      <td>Individual</td>\n",
       "      <td>Manual</td>\n",
       "      <td>Second Owner</td>\n",
       "    </tr>\n",
       "    <tr>\n",
       "      <th>4337</th>\n",
       "      <td>Maruti 800 AC BSIII</td>\n",
       "      <td>2009.0</td>\n",
       "      <td>110000</td>\n",
       "      <td>83000</td>\n",
       "      <td>Petrol</td>\n",
       "      <td>Individual</td>\n",
       "      <td>Manual</td>\n",
       "      <td>Second Owner</td>\n",
       "    </tr>\n",
       "    <tr>\n",
       "      <th>4338</th>\n",
       "      <td>Hyundai Creta 1.6 CRDi SX Option</td>\n",
       "      <td>2016.0</td>\n",
       "      <td>865000</td>\n",
       "      <td>90000</td>\n",
       "      <td>Diesel</td>\n",
       "      <td>Individual</td>\n",
       "      <td>Manual</td>\n",
       "      <td>First Owner</td>\n",
       "    </tr>\n",
       "    <tr>\n",
       "      <th>4339</th>\n",
       "      <td>Renault KWID RXT</td>\n",
       "      <td>2016.0</td>\n",
       "      <td>225000</td>\n",
       "      <td>40000</td>\n",
       "      <td>Petrol</td>\n",
       "      <td>Individual</td>\n",
       "      <td>Manual</td>\n",
       "      <td>First Owner</td>\n",
       "    </tr>\n",
       "  </tbody>\n",
       "</table>\n",
       "<p>4340 rows × 8 columns</p>\n",
       "</div>"
      ],
      "text/plain": [
       "                                     name    year  selling_price  km_driven  \\\n",
       "0                           Maruti 800 AC  2007.0          60000      70000   \n",
       "1                Maruti Wagon R LXI Minor  2007.0         135000      50000   \n",
       "2                    Hyundai Verna 1.6 SX  2012.0         600000     100000   \n",
       "3                  Datsun RediGO T Option  2017.0         250000      46000   \n",
       "4                   Honda Amaze VX i-DTEC  2014.0         450000     141000   \n",
       "...                                   ...     ...            ...        ...   \n",
       "4335  Hyundai i20 Magna 1.4 CRDi (Diesel)  2014.0         409999      80000   \n",
       "4336           Hyundai i20 Magna 1.4 CRDi  2014.0         409999      80000   \n",
       "4337                  Maruti 800 AC BSIII  2009.0         110000      83000   \n",
       "4338     Hyundai Creta 1.6 CRDi SX Option  2016.0         865000      90000   \n",
       "4339                     Renault KWID RXT  2016.0         225000      40000   \n",
       "\n",
       "        fuel seller_type transmission         owner  \n",
       "0     Petrol  Individual       Manual   First Owner  \n",
       "1     Petrol  Individual       Manual   First Owner  \n",
       "2     Diesel  Individual       Manual   First Owner  \n",
       "3     Petrol  Individual       Manual   First Owner  \n",
       "4     Diesel  Individual       Manual  Second Owner  \n",
       "...      ...         ...          ...           ...  \n",
       "4335  Diesel  Individual       Manual  Second Owner  \n",
       "4336  Diesel  Individual       Manual  Second Owner  \n",
       "4337  Petrol  Individual       Manual  Second Owner  \n",
       "4338  Diesel  Individual       Manual   First Owner  \n",
       "4339  Petrol  Individual       Manual   First Owner  \n",
       "\n",
       "[4340 rows x 8 columns]"
      ]
     },
     "execution_count": 6,
     "metadata": {},
     "output_type": "execute_result"
    }
   ],
   "source": [
    "car = pd.read_csv('/Users/nguyenphucnhuhai/Documents/GitHub/Portfolio 1/car_sell.csv', index_col = 0)\n",
    "df = pd.DataFrame(car)\n",
    "df"
   ]
  },
  {
   "cell_type": "markdown",
   "id": "121b9d3f-3e5c-4232-82cb-980e3f027a10",
   "metadata": {},
   "source": [
    " ## Q1. Remove missing data"
   ]
  },
  {
   "cell_type": "code",
   "execution_count": 7,
   "id": "59b22795-f849-4454-8831-2d674009331f",
   "metadata": {},
   "outputs": [
    {
     "data": {
      "text/html": [
       "<div>\n",
       "<style scoped>\n",
       "    .dataframe tbody tr th:only-of-type {\n",
       "        vertical-align: middle;\n",
       "    }\n",
       "\n",
       "    .dataframe tbody tr th {\n",
       "        vertical-align: top;\n",
       "    }\n",
       "\n",
       "    .dataframe thead th {\n",
       "        text-align: right;\n",
       "    }\n",
       "</style>\n",
       "<table border=\"1\" class=\"dataframe\">\n",
       "  <thead>\n",
       "    <tr style=\"text-align: right;\">\n",
       "      <th></th>\n",
       "      <th>name</th>\n",
       "      <th>year</th>\n",
       "      <th>selling_price</th>\n",
       "      <th>km_driven</th>\n",
       "      <th>fuel</th>\n",
       "      <th>seller_type</th>\n",
       "      <th>transmission</th>\n",
       "      <th>owner</th>\n",
       "    </tr>\n",
       "  </thead>\n",
       "  <tbody>\n",
       "    <tr>\n",
       "      <th>0</th>\n",
       "      <td>Maruti 800 AC</td>\n",
       "      <td>2007.0</td>\n",
       "      <td>60000</td>\n",
       "      <td>70000</td>\n",
       "      <td>Petrol</td>\n",
       "      <td>Individual</td>\n",
       "      <td>Manual</td>\n",
       "      <td>First Owner</td>\n",
       "    </tr>\n",
       "    <tr>\n",
       "      <th>1</th>\n",
       "      <td>Maruti Wagon R LXI Minor</td>\n",
       "      <td>2007.0</td>\n",
       "      <td>135000</td>\n",
       "      <td>50000</td>\n",
       "      <td>Petrol</td>\n",
       "      <td>Individual</td>\n",
       "      <td>Manual</td>\n",
       "      <td>First Owner</td>\n",
       "    </tr>\n",
       "    <tr>\n",
       "      <th>2</th>\n",
       "      <td>Hyundai Verna 1.6 SX</td>\n",
       "      <td>2012.0</td>\n",
       "      <td>600000</td>\n",
       "      <td>100000</td>\n",
       "      <td>Diesel</td>\n",
       "      <td>Individual</td>\n",
       "      <td>Manual</td>\n",
       "      <td>First Owner</td>\n",
       "    </tr>\n",
       "    <tr>\n",
       "      <th>3</th>\n",
       "      <td>Datsun RediGO T Option</td>\n",
       "      <td>2017.0</td>\n",
       "      <td>250000</td>\n",
       "      <td>46000</td>\n",
       "      <td>Petrol</td>\n",
       "      <td>Individual</td>\n",
       "      <td>Manual</td>\n",
       "      <td>First Owner</td>\n",
       "    </tr>\n",
       "    <tr>\n",
       "      <th>4</th>\n",
       "      <td>Honda Amaze VX i-DTEC</td>\n",
       "      <td>2014.0</td>\n",
       "      <td>450000</td>\n",
       "      <td>141000</td>\n",
       "      <td>Diesel</td>\n",
       "      <td>Individual</td>\n",
       "      <td>Manual</td>\n",
       "      <td>Second Owner</td>\n",
       "    </tr>\n",
       "    <tr>\n",
       "      <th>...</th>\n",
       "      <td>...</td>\n",
       "      <td>...</td>\n",
       "      <td>...</td>\n",
       "      <td>...</td>\n",
       "      <td>...</td>\n",
       "      <td>...</td>\n",
       "      <td>...</td>\n",
       "      <td>...</td>\n",
       "    </tr>\n",
       "    <tr>\n",
       "      <th>4335</th>\n",
       "      <td>Hyundai i20 Magna 1.4 CRDi (Diesel)</td>\n",
       "      <td>2014.0</td>\n",
       "      <td>409999</td>\n",
       "      <td>80000</td>\n",
       "      <td>Diesel</td>\n",
       "      <td>Individual</td>\n",
       "      <td>Manual</td>\n",
       "      <td>Second Owner</td>\n",
       "    </tr>\n",
       "    <tr>\n",
       "      <th>4336</th>\n",
       "      <td>Hyundai i20 Magna 1.4 CRDi</td>\n",
       "      <td>2014.0</td>\n",
       "      <td>409999</td>\n",
       "      <td>80000</td>\n",
       "      <td>Diesel</td>\n",
       "      <td>Individual</td>\n",
       "      <td>Manual</td>\n",
       "      <td>Second Owner</td>\n",
       "    </tr>\n",
       "    <tr>\n",
       "      <th>4337</th>\n",
       "      <td>Maruti 800 AC BSIII</td>\n",
       "      <td>2009.0</td>\n",
       "      <td>110000</td>\n",
       "      <td>83000</td>\n",
       "      <td>Petrol</td>\n",
       "      <td>Individual</td>\n",
       "      <td>Manual</td>\n",
       "      <td>Second Owner</td>\n",
       "    </tr>\n",
       "    <tr>\n",
       "      <th>4338</th>\n",
       "      <td>Hyundai Creta 1.6 CRDi SX Option</td>\n",
       "      <td>2016.0</td>\n",
       "      <td>865000</td>\n",
       "      <td>90000</td>\n",
       "      <td>Diesel</td>\n",
       "      <td>Individual</td>\n",
       "      <td>Manual</td>\n",
       "      <td>First Owner</td>\n",
       "    </tr>\n",
       "    <tr>\n",
       "      <th>4339</th>\n",
       "      <td>Renault KWID RXT</td>\n",
       "      <td>2016.0</td>\n",
       "      <td>225000</td>\n",
       "      <td>40000</td>\n",
       "      <td>Petrol</td>\n",
       "      <td>Individual</td>\n",
       "      <td>Manual</td>\n",
       "      <td>First Owner</td>\n",
       "    </tr>\n",
       "  </tbody>\n",
       "</table>\n",
       "<p>4340 rows × 8 columns</p>\n",
       "</div>"
      ],
      "text/plain": [
       "                                     name    year  selling_price  km_driven  \\\n",
       "0                           Maruti 800 AC  2007.0          60000      70000   \n",
       "1                Maruti Wagon R LXI Minor  2007.0         135000      50000   \n",
       "2                    Hyundai Verna 1.6 SX  2012.0         600000     100000   \n",
       "3                  Datsun RediGO T Option  2017.0         250000      46000   \n",
       "4                   Honda Amaze VX i-DTEC  2014.0         450000     141000   \n",
       "...                                   ...     ...            ...        ...   \n",
       "4335  Hyundai i20 Magna 1.4 CRDi (Diesel)  2014.0         409999      80000   \n",
       "4336           Hyundai i20 Magna 1.4 CRDi  2014.0         409999      80000   \n",
       "4337                  Maruti 800 AC BSIII  2009.0         110000      83000   \n",
       "4338     Hyundai Creta 1.6 CRDi SX Option  2016.0         865000      90000   \n",
       "4339                     Renault KWID RXT  2016.0         225000      40000   \n",
       "\n",
       "        fuel seller_type transmission         owner  \n",
       "0     Petrol  Individual       Manual   First Owner  \n",
       "1     Petrol  Individual       Manual   First Owner  \n",
       "2     Diesel  Individual       Manual   First Owner  \n",
       "3     Petrol  Individual       Manual   First Owner  \n",
       "4     Diesel  Individual       Manual  Second Owner  \n",
       "...      ...         ...          ...           ...  \n",
       "4335  Diesel  Individual       Manual  Second Owner  \n",
       "4336  Diesel  Individual       Manual  Second Owner  \n",
       "4337  Petrol  Individual       Manual  Second Owner  \n",
       "4338  Diesel  Individual       Manual   First Owner  \n",
       "4339  Petrol  Individual       Manual   First Owner  \n",
       "\n",
       "[4340 rows x 8 columns]"
      ]
     },
     "execution_count": 7,
     "metadata": {},
     "output_type": "execute_result"
    }
   ],
   "source": [
    "car"
   ]
  },
  {
   "cell_type": "code",
   "execution_count": 8,
   "id": "fb63450d-9b65-453c-bb7b-7913300fa841",
   "metadata": {},
   "outputs": [
    {
     "data": {
      "text/plain": [
       "<bound method NDFrame.describe of                                      name    year  selling_price  km_driven  \\\n",
       "0                           Maruti 800 AC  2007.0          60000      70000   \n",
       "1                Maruti Wagon R LXI Minor  2007.0         135000      50000   \n",
       "2                    Hyundai Verna 1.6 SX  2012.0         600000     100000   \n",
       "3                  Datsun RediGO T Option  2017.0         250000      46000   \n",
       "4                   Honda Amaze VX i-DTEC  2014.0         450000     141000   \n",
       "...                                   ...     ...            ...        ...   \n",
       "4335  Hyundai i20 Magna 1.4 CRDi (Diesel)  2014.0         409999      80000   \n",
       "4336           Hyundai i20 Magna 1.4 CRDi  2014.0         409999      80000   \n",
       "4337                  Maruti 800 AC BSIII  2009.0         110000      83000   \n",
       "4338     Hyundai Creta 1.6 CRDi SX Option  2016.0         865000      90000   \n",
       "4339                     Renault KWID RXT  2016.0         225000      40000   \n",
       "\n",
       "        fuel seller_type transmission         owner  \n",
       "0     Petrol  Individual       Manual   First Owner  \n",
       "1     Petrol  Individual       Manual   First Owner  \n",
       "2     Diesel  Individual       Manual   First Owner  \n",
       "3     Petrol  Individual       Manual   First Owner  \n",
       "4     Diesel  Individual       Manual  Second Owner  \n",
       "...      ...         ...          ...           ...  \n",
       "4335  Diesel  Individual       Manual  Second Owner  \n",
       "4336  Diesel  Individual       Manual  Second Owner  \n",
       "4337  Petrol  Individual       Manual  Second Owner  \n",
       "4338  Diesel  Individual       Manual   First Owner  \n",
       "4339  Petrol  Individual       Manual   First Owner  \n",
       "\n",
       "[4340 rows x 8 columns]>"
      ]
     },
     "execution_count": 8,
     "metadata": {},
     "output_type": "execute_result"
    }
   ],
   "source": [
    "car.describe"
   ]
  },
  {
   "cell_type": "code",
   "execution_count": 9,
   "id": "0d3565c7-cd36-4413-a819-062c5399f640",
   "metadata": {},
   "outputs": [
    {
     "data": {
      "text/plain": [
       "(310, 8)"
      ]
     },
     "execution_count": 9,
     "metadata": {},
     "output_type": "execute_result"
    }
   ],
   "source": [
    "#Number year is missing\n",
    "car[car.year.isnull()].shape"
   ]
  },
  {
   "cell_type": "code",
   "execution_count": 10,
   "id": "ff0a958f-2b83-4ac7-a2e3-bfff300156ab",
   "metadata": {},
   "outputs": [
    {
     "data": {
      "text/plain": [
       "(159, 8)"
      ]
     },
     "execution_count": 10,
     "metadata": {},
     "output_type": "execute_result"
    }
   ],
   "source": [
    "#Number fuel is none\n",
    "car[car.fuel == 'none'].shape"
   ]
  },
  {
   "cell_type": "code",
   "execution_count": 11,
   "id": "22262dcf-be4a-457e-a783-68de19306ec7",
   "metadata": {},
   "outputs": [
    {
     "data": {
      "text/plain": [
       "(4340, 8)"
      ]
     },
     "execution_count": 11,
     "metadata": {},
     "output_type": "execute_result"
    }
   ],
   "source": [
    "#Shape of car_sell dataset\n",
    "car.shape"
   ]
  },
  {
   "cell_type": "code",
   "execution_count": 12,
   "id": "14f9629d-4598-49d0-8bd3-f5a08d59f0ca",
   "metadata": {},
   "outputs": [
    {
     "data": {
      "text/plain": [
       "(4030, 8)"
      ]
     },
     "execution_count": 12,
     "metadata": {},
     "output_type": "execute_result"
    }
   ],
   "source": [
    "#Drop all the rows which year is missing in car dataset\n",
    "year_clean = car.drop(car.index[car.year.isnull()])\n",
    "year_clean.shape"
   ]
  },
  {
   "cell_type": "code",
   "execution_count": 13,
   "id": "1f196ea9-53e7-40d4-b842-645ec1fad58b",
   "metadata": {},
   "outputs": [],
   "source": [
    "#Drop all the rows which fuel is none in cleaned year dataset\n",
    "car_clean = year_clean.drop(year_clean.index[year_clean.fuel == 'none'])"
   ]
  },
  {
   "cell_type": "code",
   "execution_count": 14,
   "id": "2907da01-aac2-4f02-bc66-380fbb688c7b",
   "metadata": {},
   "outputs": [
    {
     "data": {
      "text/plain": [
       "name               0\n",
       "year             0.0\n",
       "selling_price      0\n",
       "km_driven          0\n",
       "fuel               0\n",
       "seller_type        0\n",
       "transmission       0\n",
       "owner              0\n",
       "dtype: object"
      ]
     },
     "execution_count": 14,
     "metadata": {},
     "output_type": "execute_result"
    }
   ],
   "source": [
    "#Car sell data after removing all the missing value in year and fuel\n",
    "car_clean.shape\n",
    "car_clean.year.isnull().sum()\n",
    "car_clean[car_clean.fuel == 'none'].sum()"
   ]
  },
  {
   "cell_type": "markdown",
   "id": "624cb1fc-4314-4a7e-9952-bd178f4f0d2c",
   "metadata": {},
   "source": [
    "## Q2. Descriptive statistics\n"
   ]
  },
  {
   "cell_type": "markdown",
   "id": "7b4b8bee-94c3-424f-85ab-cc21e2ae5201",
   "metadata": {},
   "source": [
    "* Q2.1 total number of unique name, unique seller_type, unique transmission, and unique owner\n",
    "* Q2.2 descriptive statistics, including the total number, mean, std, min and max regarding all km_driven\n",
    "* Q2.3 descriptive statistics, including mean, std, max, and min of the number of selling_price grouped by different seller_type\n",
    "* Q2.4 descriptive statistics, including mean, std, max, min of the number of years that sold by each owner type"
   ]
  },
  {
   "cell_type": "code",
   "execution_count": 15,
   "id": "3fb0557d-81e4-445a-9ec1-bfd8311c2c1c",
   "metadata": {},
   "outputs": [],
   "source": [
    "#Q2.1 total number of unique name, unique seller_type, unique transmission, and unique owner"
   ]
  },
  {
   "cell_type": "code",
   "execution_count": 16,
   "id": "24c4890e-cb8a-4426-b981-7660ea82f8cc",
   "metadata": {},
   "outputs": [
    {
     "data": {
      "text/html": [
       "<div>\n",
       "<style scoped>\n",
       "    .dataframe tbody tr th:only-of-type {\n",
       "        vertical-align: middle;\n",
       "    }\n",
       "\n",
       "    .dataframe tbody tr th {\n",
       "        vertical-align: top;\n",
       "    }\n",
       "\n",
       "    .dataframe thead th {\n",
       "        text-align: right;\n",
       "    }\n",
       "</style>\n",
       "<table border=\"1\" class=\"dataframe\">\n",
       "  <thead>\n",
       "    <tr style=\"text-align: right;\">\n",
       "      <th></th>\n",
       "      <th>name</th>\n",
       "      <th>year</th>\n",
       "      <th>selling_price</th>\n",
       "      <th>km_driven</th>\n",
       "      <th>fuel</th>\n",
       "      <th>seller_type</th>\n",
       "      <th>transmission</th>\n",
       "      <th>owner</th>\n",
       "    </tr>\n",
       "  </thead>\n",
       "  <tbody>\n",
       "    <tr>\n",
       "      <th>0</th>\n",
       "      <td>Maruti 800 AC</td>\n",
       "      <td>2007.0</td>\n",
       "      <td>60000</td>\n",
       "      <td>70000</td>\n",
       "      <td>Petrol</td>\n",
       "      <td>Individual</td>\n",
       "      <td>Manual</td>\n",
       "      <td>First Owner</td>\n",
       "    </tr>\n",
       "    <tr>\n",
       "      <th>1</th>\n",
       "      <td>Maruti Wagon R LXI Minor</td>\n",
       "      <td>2007.0</td>\n",
       "      <td>135000</td>\n",
       "      <td>50000</td>\n",
       "      <td>Petrol</td>\n",
       "      <td>Individual</td>\n",
       "      <td>Manual</td>\n",
       "      <td>First Owner</td>\n",
       "    </tr>\n",
       "  </tbody>\n",
       "</table>\n",
       "</div>"
      ],
      "text/plain": [
       "                       name    year  selling_price  km_driven    fuel  \\\n",
       "0             Maruti 800 AC  2007.0          60000      70000  Petrol   \n",
       "1  Maruti Wagon R LXI Minor  2007.0         135000      50000  Petrol   \n",
       "\n",
       "  seller_type transmission        owner  \n",
       "0  Individual       Manual  First Owner  \n",
       "1  Individual       Manual  First Owner  "
      ]
     },
     "execution_count": 16,
     "metadata": {},
     "output_type": "execute_result"
    }
   ],
   "source": [
    "car_clean.head(2)"
   ]
  },
  {
   "cell_type": "code",
   "execution_count": 17,
   "id": "66b99a03-7094-4bd5-a5a1-7c980aca3454",
   "metadata": {},
   "outputs": [
    {
     "name": "stdout",
     "output_type": "stream",
     "text": [
      "['Maruti 800 AC' 'Maruti Wagon R LXI Minor' 'Hyundai Verna 1.6 SX' ...\n",
      " 'Mahindra Verito 1.5 D6 BSIII'\n",
      " 'Toyota Innova 2.5 VX (Diesel) 8 Seater BS IV'\n",
      " 'Hyundai i20 Magna 1.4 CRDi']\n"
     ]
    },
    {
     "data": {
      "text/plain": [
       "1402"
      ]
     },
     "execution_count": 17,
     "metadata": {},
     "output_type": "execute_result"
    }
   ],
   "source": [
    "print(car_clean.name.unique())\n",
    "car_clean.name.nunique()"
   ]
  },
  {
   "cell_type": "code",
   "execution_count": 18,
   "id": "060b23ce-4e72-40dc-a560-f394f436cc1d",
   "metadata": {},
   "outputs": [
    {
     "name": "stdout",
     "output_type": "stream",
     "text": [
      "['Individual' 'Dealer' 'Trustmark Dealer']\n"
     ]
    },
    {
     "data": {
      "text/plain": [
       "3"
      ]
     },
     "execution_count": 18,
     "metadata": {},
     "output_type": "execute_result"
    }
   ],
   "source": [
    "print(car_clean.seller_type.unique())\n",
    "car_clean.seller_type.nunique()"
   ]
  },
  {
   "cell_type": "code",
   "execution_count": 19,
   "id": "2d4c02a5-84b0-4ea2-b465-813951a7b481",
   "metadata": {},
   "outputs": [
    {
     "name": "stdout",
     "output_type": "stream",
     "text": [
      "['Manual' 'Automatic']\n"
     ]
    },
    {
     "data": {
      "text/plain": [
       "2"
      ]
     },
     "execution_count": 19,
     "metadata": {},
     "output_type": "execute_result"
    }
   ],
   "source": [
    "print(car_clean.transmission.unique())\n",
    "car_clean.transmission.nunique()"
   ]
  },
  {
   "cell_type": "code",
   "execution_count": 20,
   "id": "61eb5dfd-d938-4cd2-8a7b-290c22322dc3",
   "metadata": {},
   "outputs": [
    {
     "name": "stdout",
     "output_type": "stream",
     "text": [
      "['First Owner' 'Second Owner' 'Fourth & Above Owner' 'Third Owner'\n",
      " 'Test Drive Car']\n"
     ]
    },
    {
     "data": {
      "text/plain": [
       "5"
      ]
     },
     "execution_count": 20,
     "metadata": {},
     "output_type": "execute_result"
    }
   ],
   "source": [
    "print(car_clean.owner.unique())\n",
    "car_clean.owner.nunique()"
   ]
  },
  {
   "cell_type": "code",
   "execution_count": 21,
   "id": "3301884e-8e03-40ab-8788-01976645ae77",
   "metadata": {},
   "outputs": [],
   "source": [
    "# Q2.2 descriptive statistics, including the total number, mean, std, min and max regarding all km_driven"
   ]
  },
  {
   "cell_type": "code",
   "execution_count": 22,
   "id": "17c3c9a4-42ac-41a5-8ae3-9c4ccd8cc678",
   "metadata": {},
   "outputs": [
    {
     "data": {
      "text/html": [
       "<div>\n",
       "<style scoped>\n",
       "    .dataframe tbody tr th:only-of-type {\n",
       "        vertical-align: middle;\n",
       "    }\n",
       "\n",
       "    .dataframe tbody tr th {\n",
       "        vertical-align: top;\n",
       "    }\n",
       "\n",
       "    .dataframe thead th {\n",
       "        text-align: right;\n",
       "    }\n",
       "</style>\n",
       "<table border=\"1\" class=\"dataframe\">\n",
       "  <thead>\n",
       "    <tr style=\"text-align: right;\">\n",
       "      <th></th>\n",
       "      <th>name</th>\n",
       "      <th>year</th>\n",
       "      <th>selling_price</th>\n",
       "      <th>km_driven</th>\n",
       "      <th>fuel</th>\n",
       "      <th>seller_type</th>\n",
       "      <th>transmission</th>\n",
       "      <th>owner</th>\n",
       "    </tr>\n",
       "  </thead>\n",
       "  <tbody>\n",
       "    <tr>\n",
       "      <th>0</th>\n",
       "      <td>Maruti 800 AC</td>\n",
       "      <td>2007.0</td>\n",
       "      <td>60000</td>\n",
       "      <td>70000</td>\n",
       "      <td>Petrol</td>\n",
       "      <td>Individual</td>\n",
       "      <td>Manual</td>\n",
       "      <td>First Owner</td>\n",
       "    </tr>\n",
       "    <tr>\n",
       "      <th>1</th>\n",
       "      <td>Maruti Wagon R LXI Minor</td>\n",
       "      <td>2007.0</td>\n",
       "      <td>135000</td>\n",
       "      <td>50000</td>\n",
       "      <td>Petrol</td>\n",
       "      <td>Individual</td>\n",
       "      <td>Manual</td>\n",
       "      <td>First Owner</td>\n",
       "    </tr>\n",
       "  </tbody>\n",
       "</table>\n",
       "</div>"
      ],
      "text/plain": [
       "                       name    year  selling_price  km_driven    fuel  \\\n",
       "0             Maruti 800 AC  2007.0          60000      70000  Petrol   \n",
       "1  Maruti Wagon R LXI Minor  2007.0         135000      50000  Petrol   \n",
       "\n",
       "  seller_type transmission        owner  \n",
       "0  Individual       Manual  First Owner  \n",
       "1  Individual       Manual  First Owner  "
      ]
     },
     "execution_count": 22,
     "metadata": {},
     "output_type": "execute_result"
    }
   ],
   "source": [
    "car_clean.head(2)"
   ]
  },
  {
   "cell_type": "code",
   "execution_count": 23,
   "id": "3411c006-76d6-4278-a678-75f9f5fcfd49",
   "metadata": {},
   "outputs": [
    {
     "data": {
      "text/plain": [
       "1"
      ]
     },
     "execution_count": 23,
     "metadata": {},
     "output_type": "execute_result"
    }
   ],
   "source": [
    "car_clean.km_driven.min()"
   ]
  },
  {
   "cell_type": "code",
   "execution_count": 24,
   "id": "12b0d35c-5098-43ac-b8bc-b31edeb8d7aa",
   "metadata": {},
   "outputs": [
    {
     "data": {
      "text/plain": [
       "806599"
      ]
     },
     "execution_count": 24,
     "metadata": {},
     "output_type": "execute_result"
    }
   ],
   "source": [
    "car_clean.km_driven.max()"
   ]
  },
  {
   "cell_type": "code",
   "execution_count": 25,
   "id": "30a0c623-a9d0-4443-a881-28439ce78832",
   "metadata": {},
   "outputs": [
    {
     "data": {
      "text/plain": [
       "46679.603915975706"
      ]
     },
     "execution_count": 25,
     "metadata": {},
     "output_type": "execute_result"
    }
   ],
   "source": [
    "car_clean.km_driven.std()"
   ]
  },
  {
   "cell_type": "code",
   "execution_count": 26,
   "id": "9ff1e134-686a-44d8-8ea1-7ad6df8894ef",
   "metadata": {},
   "outputs": [
    {
     "data": {
      "text/plain": [
       "66313.27920741122"
      ]
     },
     "execution_count": 26,
     "metadata": {},
     "output_type": "execute_result"
    }
   ],
   "source": [
    "car_clean.km_driven.mean()"
   ]
  },
  {
   "cell_type": "code",
   "execution_count": 27,
   "id": "50195e9b-5b45-41ac-be41-d15a80e00f02",
   "metadata": {},
   "outputs": [
    {
     "data": {
      "text/plain": [
       "seller_type\n",
       "Dealer              702093.314961\n",
       "Individual          421169.410265\n",
       "Trustmark Dealer    935797.872340\n",
       "Name: selling_price, dtype: float64"
      ]
     },
     "execution_count": 27,
     "metadata": {},
     "output_type": "execute_result"
    }
   ],
   "source": [
    "# Q2.3 descriptive statistics, including mean, std, max, and min of the number of selling_price grouped by different seller_type\n",
    "car_clean.groupby('seller_type')['selling_price'].mean()"
   ]
  },
  {
   "cell_type": "code",
   "execution_count": 28,
   "id": "f89b37d0-608b-4900-937e-55f45f134042",
   "metadata": {},
   "outputs": [
    {
     "data": {
      "text/plain": [
       "seller_type\n",
       "Dealer              813597.811832\n",
       "Individual          420273.684129\n",
       "Trustmark Dealer    655724.299195\n",
       "Name: selling_price, dtype: float64"
      ]
     },
     "execution_count": 28,
     "metadata": {},
     "output_type": "execute_result"
    }
   ],
   "source": [
    "car_clean.groupby('seller_type')['selling_price'].std()"
   ]
  },
  {
   "cell_type": "code",
   "execution_count": 29,
   "id": "71d9528c-401f-4b5c-9ea0-c231443951b1",
   "metadata": {},
   "outputs": [
    {
     "data": {
      "text/plain": [
       "seller_type\n",
       "Dealer               22000\n",
       "Individual           20000\n",
       "Trustmark Dealer    315000\n",
       "Name: selling_price, dtype: int64"
      ]
     },
     "execution_count": 29,
     "metadata": {},
     "output_type": "execute_result"
    }
   ],
   "source": [
    "car_clean.groupby('seller_type')['selling_price'].min()"
   ]
  },
  {
   "cell_type": "code",
   "execution_count": 30,
   "id": "e72f6250-0097-4169-ad50-d6da2a3e0b99",
   "metadata": {},
   "outputs": [
    {
     "data": {
      "text/plain": [
       "seller_type\n",
       "Dealer              8900000\n",
       "Individual          4800000\n",
       "Trustmark Dealer    2600000\n",
       "Name: selling_price, dtype: int64"
      ]
     },
     "execution_count": 30,
     "metadata": {},
     "output_type": "execute_result"
    }
   ],
   "source": [
    "car_clean.groupby('seller_type')['selling_price'].max()"
   ]
  },
  {
   "cell_type": "code",
   "execution_count": 31,
   "id": "36b06b49-cb75-4b5e-8e90-9238a9a3a76e",
   "metadata": {},
   "outputs": [
    {
     "data": {
      "text/html": [
       "<div>\n",
       "<style scoped>\n",
       "    .dataframe tbody tr th:only-of-type {\n",
       "        vertical-align: middle;\n",
       "    }\n",
       "\n",
       "    .dataframe tbody tr th {\n",
       "        vertical-align: top;\n",
       "    }\n",
       "\n",
       "    .dataframe thead th {\n",
       "        text-align: right;\n",
       "    }\n",
       "</style>\n",
       "<table border=\"1\" class=\"dataframe\">\n",
       "  <thead>\n",
       "    <tr style=\"text-align: right;\">\n",
       "      <th></th>\n",
       "      <th>name</th>\n",
       "      <th>year</th>\n",
       "      <th>selling_price</th>\n",
       "      <th>km_driven</th>\n",
       "      <th>fuel</th>\n",
       "      <th>seller_type</th>\n",
       "      <th>transmission</th>\n",
       "      <th>owner</th>\n",
       "    </tr>\n",
       "  </thead>\n",
       "  <tbody>\n",
       "    <tr>\n",
       "      <th>0</th>\n",
       "      <td>Maruti 800 AC</td>\n",
       "      <td>2007.0</td>\n",
       "      <td>60000</td>\n",
       "      <td>70000</td>\n",
       "      <td>Petrol</td>\n",
       "      <td>Individual</td>\n",
       "      <td>Manual</td>\n",
       "      <td>First Owner</td>\n",
       "    </tr>\n",
       "    <tr>\n",
       "      <th>1</th>\n",
       "      <td>Maruti Wagon R LXI Minor</td>\n",
       "      <td>2007.0</td>\n",
       "      <td>135000</td>\n",
       "      <td>50000</td>\n",
       "      <td>Petrol</td>\n",
       "      <td>Individual</td>\n",
       "      <td>Manual</td>\n",
       "      <td>First Owner</td>\n",
       "    </tr>\n",
       "  </tbody>\n",
       "</table>\n",
       "</div>"
      ],
      "text/plain": [
       "                       name    year  selling_price  km_driven    fuel  \\\n",
       "0             Maruti 800 AC  2007.0          60000      70000  Petrol   \n",
       "1  Maruti Wagon R LXI Minor  2007.0         135000      50000  Petrol   \n",
       "\n",
       "  seller_type transmission        owner  \n",
       "0  Individual       Manual  First Owner  \n",
       "1  Individual       Manual  First Owner  "
      ]
     },
     "execution_count": 31,
     "metadata": {},
     "output_type": "execute_result"
    }
   ],
   "source": [
    "# Q2.4 descriptive statistics, including mean, std, max, min of the number of years that sold by each owner type\n",
    "car_clean.head(2)"
   ]
  },
  {
   "cell_type": "code",
   "execution_count": 32,
   "id": "16679e3f-397a-4081-b7ff-170ca7f4a3fe",
   "metadata": {},
   "outputs": [
    {
     "data": {
      "text/plain": [
       "owner\n",
       "First Owner             1996.0\n",
       "Fourth & Above Owner    1992.0\n",
       "Second Owner            1995.0\n",
       "Test Drive Car          2018.0\n",
       "Third Owner             1997.0\n",
       "Name: year, dtype: float64"
      ]
     },
     "execution_count": 32,
     "metadata": {},
     "output_type": "execute_result"
    }
   ],
   "source": [
    "car_clean.groupby('owner')['year'].min()"
   ]
  },
  {
   "cell_type": "code",
   "execution_count": 33,
   "id": "6ca5a065-c1c4-4790-87f8-9cff040589c9",
   "metadata": {},
   "outputs": [
    {
     "data": {
      "text/plain": [
       "owner\n",
       "First Owner             2020.0\n",
       "Fourth & Above Owner    2020.0\n",
       "Second Owner            2019.0\n",
       "Test Drive Car          2020.0\n",
       "Third Owner             2019.0\n",
       "Name: year, dtype: float64"
      ]
     },
     "execution_count": 33,
     "metadata": {},
     "output_type": "execute_result"
    }
   ],
   "source": [
    "car_clean.groupby('owner')['year'].max()"
   ]
  },
  {
   "cell_type": "code",
   "execution_count": 34,
   "id": "9ff6fcbb-df31-480e-b9f9-27308396eea1",
   "metadata": {},
   "outputs": [
    {
     "data": {
      "text/plain": [
       "owner\n",
       "First Owner             3.555597\n",
       "Fourth & Above Owner    5.248635\n",
       "Second Owner            3.840993\n",
       "Test Drive Car          0.633324\n",
       "Third Owner             3.920266\n",
       "Name: year, dtype: float64"
      ]
     },
     "execution_count": 34,
     "metadata": {},
     "output_type": "execute_result"
    }
   ],
   "source": [
    "car_clean.groupby('owner')['year'].std()"
   ]
  },
  {
   "cell_type": "code",
   "execution_count": 35,
   "id": "b7d8dc2a-aabd-4874-9199-4d3c35d0293a",
   "metadata": {},
   "outputs": [
    {
     "data": {
      "text/plain": [
       "owner\n",
       "First Owner             2014.453791\n",
       "Fourth & Above Owner    2007.238806\n",
       "Second Owner            2010.977000\n",
       "Test Drive Car          2019.642857\n",
       "Third Owner             2009.413919\n",
       "Name: year, dtype: float64"
      ]
     },
     "execution_count": 35,
     "metadata": {},
     "output_type": "execute_result"
    }
   ],
   "source": [
    "car_clean.groupby('owner')['year'].mean()"
   ]
  },
  {
   "cell_type": "markdown",
   "id": "7d0fe1b8-1ac8-4c20-b08b-6e6f619e84d5",
   "metadata": {},
   "source": [
    "## Q3. Plotting and Analysis"
   ]
  },
  {
   "cell_type": "code",
   "execution_count": 36,
   "id": "52724fb6-29df-4391-a4b2-2d7e2164e2db",
   "metadata": {},
   "outputs": [
    {
     "data": {
      "text/html": [
       "<div>\n",
       "<style scoped>\n",
       "    .dataframe tbody tr th:only-of-type {\n",
       "        vertical-align: middle;\n",
       "    }\n",
       "\n",
       "    .dataframe tbody tr th {\n",
       "        vertical-align: top;\n",
       "    }\n",
       "\n",
       "    .dataframe thead th {\n",
       "        text-align: right;\n",
       "    }\n",
       "</style>\n",
       "<table border=\"1\" class=\"dataframe\">\n",
       "  <thead>\n",
       "    <tr style=\"text-align: right;\">\n",
       "      <th></th>\n",
       "      <th>name</th>\n",
       "      <th>year</th>\n",
       "      <th>selling_price</th>\n",
       "      <th>km_driven</th>\n",
       "      <th>fuel</th>\n",
       "      <th>seller_type</th>\n",
       "      <th>transmission</th>\n",
       "      <th>owner</th>\n",
       "    </tr>\n",
       "  </thead>\n",
       "  <tbody>\n",
       "    <tr>\n",
       "      <th>0</th>\n",
       "      <td>Maruti 800 AC</td>\n",
       "      <td>2007.0</td>\n",
       "      <td>60000</td>\n",
       "      <td>70000</td>\n",
       "      <td>Petrol</td>\n",
       "      <td>Individual</td>\n",
       "      <td>Manual</td>\n",
       "      <td>First Owner</td>\n",
       "    </tr>\n",
       "    <tr>\n",
       "      <th>1</th>\n",
       "      <td>Maruti Wagon R LXI Minor</td>\n",
       "      <td>2007.0</td>\n",
       "      <td>135000</td>\n",
       "      <td>50000</td>\n",
       "      <td>Petrol</td>\n",
       "      <td>Individual</td>\n",
       "      <td>Manual</td>\n",
       "      <td>First Owner</td>\n",
       "    </tr>\n",
       "    <tr>\n",
       "      <th>2</th>\n",
       "      <td>Hyundai Verna 1.6 SX</td>\n",
       "      <td>2012.0</td>\n",
       "      <td>600000</td>\n",
       "      <td>100000</td>\n",
       "      <td>Diesel</td>\n",
       "      <td>Individual</td>\n",
       "      <td>Manual</td>\n",
       "      <td>First Owner</td>\n",
       "    </tr>\n",
       "    <tr>\n",
       "      <th>3</th>\n",
       "      <td>Datsun RediGO T Option</td>\n",
       "      <td>2017.0</td>\n",
       "      <td>250000</td>\n",
       "      <td>46000</td>\n",
       "      <td>Petrol</td>\n",
       "      <td>Individual</td>\n",
       "      <td>Manual</td>\n",
       "      <td>First Owner</td>\n",
       "    </tr>\n",
       "    <tr>\n",
       "      <th>4</th>\n",
       "      <td>Honda Amaze VX i-DTEC</td>\n",
       "      <td>2014.0</td>\n",
       "      <td>450000</td>\n",
       "      <td>141000</td>\n",
       "      <td>Diesel</td>\n",
       "      <td>Individual</td>\n",
       "      <td>Manual</td>\n",
       "      <td>Second Owner</td>\n",
       "    </tr>\n",
       "  </tbody>\n",
       "</table>\n",
       "</div>"
      ],
      "text/plain": [
       "                       name    year  selling_price  km_driven    fuel  \\\n",
       "0             Maruti 800 AC  2007.0          60000      70000  Petrol   \n",
       "1  Maruti Wagon R LXI Minor  2007.0         135000      50000  Petrol   \n",
       "2      Hyundai Verna 1.6 SX  2012.0         600000     100000  Diesel   \n",
       "3    Datsun RediGO T Option  2017.0         250000      46000  Petrol   \n",
       "4     Honda Amaze VX i-DTEC  2014.0         450000     141000  Diesel   \n",
       "\n",
       "  seller_type transmission         owner  \n",
       "0  Individual       Manual   First Owner  \n",
       "1  Individual       Manual   First Owner  \n",
       "2  Individual       Manual   First Owner  \n",
       "3  Individual       Manual   First Owner  \n",
       "4  Individual       Manual  Second Owner  "
      ]
     },
     "execution_count": 36,
     "metadata": {},
     "output_type": "execute_result"
    }
   ],
   "source": [
    "car_clean.head()"
   ]
  },
  {
   "cell_type": "code",
   "execution_count": 37,
   "id": "0e7192d8-5766-47f1-a2fe-22887f364788",
   "metadata": {},
   "outputs": [
    {
     "data": {
      "text/html": [
       "<div>\n",
       "<style scoped>\n",
       "    .dataframe tbody tr th:only-of-type {\n",
       "        vertical-align: middle;\n",
       "    }\n",
       "\n",
       "    .dataframe tbody tr th {\n",
       "        vertical-align: top;\n",
       "    }\n",
       "\n",
       "    .dataframe thead th {\n",
       "        text-align: right;\n",
       "    }\n",
       "</style>\n",
       "<table border=\"1\" class=\"dataframe\">\n",
       "  <thead>\n",
       "    <tr style=\"text-align: right;\">\n",
       "      <th></th>\n",
       "      <th>name</th>\n",
       "      <th>year</th>\n",
       "      <th>selling_price</th>\n",
       "      <th>km_driven</th>\n",
       "      <th>fuel</th>\n",
       "      <th>seller_type</th>\n",
       "      <th>transmission</th>\n",
       "      <th>owner</th>\n",
       "      <th>car_brand</th>\n",
       "    </tr>\n",
       "  </thead>\n",
       "  <tbody>\n",
       "    <tr>\n",
       "      <th>0</th>\n",
       "      <td>Maruti 800 AC</td>\n",
       "      <td>2007.0</td>\n",
       "      <td>60000</td>\n",
       "      <td>70000</td>\n",
       "      <td>Petrol</td>\n",
       "      <td>Individual</td>\n",
       "      <td>Manual</td>\n",
       "      <td>First Owner</td>\n",
       "      <td>Maruti</td>\n",
       "    </tr>\n",
       "    <tr>\n",
       "      <th>1</th>\n",
       "      <td>Maruti Wagon R LXI Minor</td>\n",
       "      <td>2007.0</td>\n",
       "      <td>135000</td>\n",
       "      <td>50000</td>\n",
       "      <td>Petrol</td>\n",
       "      <td>Individual</td>\n",
       "      <td>Manual</td>\n",
       "      <td>First Owner</td>\n",
       "      <td>Maruti</td>\n",
       "    </tr>\n",
       "    <tr>\n",
       "      <th>2</th>\n",
       "      <td>Hyundai Verna 1.6 SX</td>\n",
       "      <td>2012.0</td>\n",
       "      <td>600000</td>\n",
       "      <td>100000</td>\n",
       "      <td>Diesel</td>\n",
       "      <td>Individual</td>\n",
       "      <td>Manual</td>\n",
       "      <td>First Owner</td>\n",
       "      <td>Hyundai</td>\n",
       "    </tr>\n",
       "    <tr>\n",
       "      <th>3</th>\n",
       "      <td>Datsun RediGO T Option</td>\n",
       "      <td>2017.0</td>\n",
       "      <td>250000</td>\n",
       "      <td>46000</td>\n",
       "      <td>Petrol</td>\n",
       "      <td>Individual</td>\n",
       "      <td>Manual</td>\n",
       "      <td>First Owner</td>\n",
       "      <td>Datsun</td>\n",
       "    </tr>\n",
       "    <tr>\n",
       "      <th>4</th>\n",
       "      <td>Honda Amaze VX i-DTEC</td>\n",
       "      <td>2014.0</td>\n",
       "      <td>450000</td>\n",
       "      <td>141000</td>\n",
       "      <td>Diesel</td>\n",
       "      <td>Individual</td>\n",
       "      <td>Manual</td>\n",
       "      <td>Second Owner</td>\n",
       "      <td>Honda</td>\n",
       "    </tr>\n",
       "  </tbody>\n",
       "</table>\n",
       "</div>"
      ],
      "text/plain": [
       "                       name    year  selling_price  km_driven    fuel  \\\n",
       "0             Maruti 800 AC  2007.0          60000      70000  Petrol   \n",
       "1  Maruti Wagon R LXI Minor  2007.0         135000      50000  Petrol   \n",
       "2      Hyundai Verna 1.6 SX  2012.0         600000     100000  Diesel   \n",
       "3    Datsun RediGO T Option  2017.0         250000      46000  Petrol   \n",
       "4     Honda Amaze VX i-DTEC  2014.0         450000     141000  Diesel   \n",
       "\n",
       "  seller_type transmission         owner car_brand  \n",
       "0  Individual       Manual   First Owner    Maruti  \n",
       "1  Individual       Manual   First Owner    Maruti  \n",
       "2  Individual       Manual   First Owner   Hyundai  \n",
       "3  Individual       Manual   First Owner    Datsun  \n",
       "4  Individual       Manual  Second Owner     Honda  "
      ]
     },
     "execution_count": 37,
     "metadata": {},
     "output_type": "execute_result"
    }
   ],
   "source": [
    "car_clean['car_brand'] = car_clean['name'].str.split().str[0]\n",
    "car_clean.head()"
   ]
  },
  {
   "cell_type": "code",
   "execution_count": 48,
   "id": "b4c5ee0b-fe85-4e28-8e0b-39862e02a9c9",
   "metadata": {},
   "outputs": [
    {
     "data": {
      "image/png": "[encoded data removed]",
      "text/plain": [
       "<Figure size 640x480 with 1 Axes>"
      ]
     },
     "metadata": {},
     "output_type": "display_data"
    }
   ],
   "source": [
    "#The overall trend of car sold over 28 years\n",
    "sell_by_year = car_clean.groupby('year')['selling_price'].sum()\n",
    "plt.plot(sell_by_year.index, sell_by_year.values)\n",
    "plt.title('TThe overall trend of car sold over 28 years')\n",
    "plt.ylabel('Selling Price')\n",
    "plt.xlabel('Year')\n",
    "sell_by_year \n",
    "plt.tight_layout() "
   ]
  },
  {
   "cell_type": "markdown",
   "id": "2ec50905-6067-472f-b1be-453ef1916dfd",
   "metadata": {},
   "source": [
    "The car commercial line chart over 28 years from 1992 to 2020 decribe a steady growth in trend line followed by the booming in market and eventual decline. From 1992 to 2005, there was an slightly increase in car sold from 50 thousands to over 8 millions, indicating a consistence growth in car industry. From the year of 2006 onwards, the revenue was observed a dramatic surge and peaked in 2017 at over 312 millions, showiwng a expansion trend in car industry, increased demand and economics explosion. Shortly thereafter, the revenue suddenly plummeted to under 35 millions in 2020 after showing a decline sign in the beginning of 2018, indicating a drop in car commercial and economics downturns."
   ]
  },
  {
   "cell_type": "code",
   "execution_count": 39,
   "id": "51089792-8a08-493b-aabb-7748c363be28",
   "metadata": {},
   "outputs": [
    {
     "data": {
      "image/png": "[encoded data removed]",
      "text/plain": [
       "<Figure size 1000x700 with 1 Axes>"
      ]
     },
     "metadata": {},
     "output_type": "display_data"
    }
   ],
   "source": [
    "car_sum = car_clean.groupby('car_brand')['selling_price'].sum().reset_index()\n",
    "car_sum_sorted = car_sum.sort_values(by='selling_price', ascending=False)\n",
    "\n",
    "# Create a bar chart with sorted data\n",
    "plt.figure(figsize=(10, 7))\n",
    "sns.barplot(x='car_brand', y='selling_price', data=car_sum_sorted, \n",
    "            order=car_sum_sorted['car_brand'])\n",
    "plt.xticks(rotation = 'vertical')\n",
    "plt.xlabel('Car Brands')\n",
    "plt.ylabel('Total Selling Price')\n",
    "plt.title('Total Selling Price by Car Brands')\n",
    "plt.tight_layout() \n",
    "plt.show()"
   ]
  },
  {
   "cell_type": "markdown",
   "id": "d56b1cf0-ebb8-4c70-93f5-7a1f9a45b033",
   "metadata": {},
   "source": [
    "The bar chart illustrates the total selling price classified by various car brand in nearly 3 decades, highlighting the top 3 highest revenue resale car - Maruti, Hyunday, Mahindra respectively. Despite the high in selling price, those vehicle brands provide users a persistence car products, high safety level and better long-term value, reflected by the high resale prices. The ability to retain value over time makes them more attractive choices, an worthy and reliable investment and a top-priority options for users."
   ]
  },
  {
   "cell_type": "code",
   "execution_count": 49,
   "id": "7a1dc572-d17b-473c-801a-d1f360c5708e",
   "metadata": {},
   "outputs": [
    {
     "data": {
      "image/png": "[encoded data removed]",
      "text/plain": [
       "<Figure size 640x480 with 1 Axes>"
      ]
     },
     "metadata": {},
     "output_type": "display_data"
    }
   ],
   "source": [
    "plt.scatter(car_clean['km_driven'], car_clean['selling_price'],s= 30, alpha=0.7)\n",
    "plt.xlabel('Kilometers Driven')\n",
    "plt.ylabel('Selling Price')\n",
    "plt.title('Effect of Kilometers Driven on Selling Price')\n",
    "ax = plt.gca()\n",
    "ax.yaxis.grid(True, color='black', linestyle='-', linewidth=0.5)\n",
    "plt.tight_layout() \n",
    "plt.show()"
   ]
  },
  {
   "attachments": {},
   "cell_type": "markdown",
   "id": "afa354d0-c695-400d-a973-e669502f892d",
   "metadata": {},
   "source": [
    "The scatter plot indicates the relationship between selling price and kilometer driven, revealing a trend where the more kilometer driven is recorded in the car, the less is charged on the price. Despite the diversity in car brands, it is a evident that even cars with extremely few kilometers driven are priced within an acceptable range, except for the luxury car brands. As a result, consumers who are searching for a good deal should give consideration to cars with low to moderate mileage because they provide a reliable and affordable combination. However, if the goal is seeking for the high retaining value and extraodinary experiences, the high prices with low mileage luxury car brands would be recommended."
   ]
  },
  {
   "cell_type": "code",
   "execution_count": 50,
   "id": "d7e6fd8f-3914-4108-84d2-42765812f0f4",
   "metadata": {},
   "outputs": [
    {
     "name": "stderr",
     "output_type": "stream",
     "text": [
      "/opt/anaconda3/lib/python3.11/site-packages/seaborn/_oldcore.py:1119: FutureWarning: use_inf_as_na option is deprecated and will be removed in a future version. Convert inf values to NaN before operating instead.\n",
      "  with pd.option_context('mode.use_inf_as_na', True):\n",
      "/opt/anaconda3/lib/python3.11/site-packages/seaborn/_oldcore.py:1119: FutureWarning: use_inf_as_na option is deprecated and will be removed in a future version. Convert inf values to NaN before operating instead.\n",
      "  with pd.option_context('mode.use_inf_as_na', True):\n"
     ]
    },
    {
     "data": {
      "image/png": "[encoded data removed]",
      "text/plain": [
       "<Figure size 1000x600 with 2 Axes>"
      ]
     },
     "metadata": {},
     "output_type": "display_data"
    }
   ],
   "source": [
    "#Owner types vs.km_driven\n",
    "fig, ax1 = plt.subplots(figsize=(10, 6))\n",
    "sns.barplot(x = 'owner', y = 'km_driven', data = car_clean, ax=ax1)\n",
    "ax1.set_xticklabels(ax1.get_xticklabels(), rotation=45)\n",
    "ax1.set_xlabel('Owner Types')\n",
    "ax1.set_ylabel('Kilometer Driven')\n",
    "ax1.set_title('Kilometer Driven vs Owner Types')\n",
    "\n",
    "ax2 = ax1.twinx()\n",
    "owner_sell = car_clean.groupby('owner')['selling_price'].mean().reset_index()\n",
    "owner_sell_sorted = owner_sell.set_index('owner').reindex(car_clean['owner'].unique()).reset_index()\n",
    "\n",
    "sns.lineplot(x='owner', y= 'selling_price', data=owner_sell_sorted, ax=ax2, color='red', marker='o')\n",
    "ax2.set_ylabel('Selling Price')\n",
    "plt.tight_layout() \n",
    "\n"
   ]
  },
  {
   "attachments": {},
   "cell_type": "markdown",
   "id": "29a020af-c135-4aac-9c3a-52a4965faa6c",
   "metadata": {},
   "source": [
    "It is advised that buying a used car, better concentrating on cars that have only had one or two prior owners as first-owner vehicles typically receive better maintenance and have a more dependable history, they also haven't been used as frequently, these vehicles are typically in better shape. Although test-driven cars tend to have lesser mileage, which makes them seem attractive, their higher pricing frequently do not make the extra expense worthwhile, especially when taking into account possible wear from many test drives. As a result give first-owner cars priority as they are frequently better maintained and have fewer hidden problems, which lowers the likelihood of unexpected repairs.\n",
    "\r\n"
   ]
  },
  {
   "cell_type": "code",
   "execution_count": 51,
   "id": "f331ebe2-6456-400c-8276-3450ea9df9ed",
   "metadata": {},
   "outputs": [
    {
     "data": {
      "image/png": "[encoded data removed]",
      "text/plain": [
       "<Figure size 1200x600 with 2 Axes>"
      ]
     },
     "metadata": {},
     "output_type": "display_data"
    }
   ],
   "source": [
    "fig, (ax1, ax2) = plt.subplots(1, 2, figsize=(12, 6)) \n",
    "\n",
    "# Plot a bar chart on the first subplot\n",
    "transmission_price = car_clean.groupby('transmission')['selling_price'].mean()\n",
    "\n",
    "ax2.bar(transmission_price.index, transmission_price.values, data=car_clean)\n",
    "ax2.set_title('Transmission and Selling Price')\n",
    "ax2.set_ylabel('Selling Price')\n",
    "ax2.set_xlabel('Transmission Type')\n",
    "\n",
    "# Plot a pie chart on the second subplot\n",
    "ax1.pie(transmission_price.values, labels=transmission_price.index, autopct='%1.1f%%', startangle=90)\n",
    "ax1.set_title('Transmission Distribution')\n",
    "\n",
    "plt.tight_layout() \n",
    "plt.show()"
   ]
  },
  {
   "cell_type": "markdown",
   "id": "18f72892-c7b1-4b3a-83d5-e76c9068eb94",
   "metadata": {},
   "source": [
    "According to the data, automatic transmissions only make up 10% of the market overall. Still, they are sold for an average of three times more than manual transmissions, which account for 90% of the market. This shows that automatic transmissions appeal to a particular customer category willing to pay a higher price and are seen as more premium, probably because of their advanced features and ease of use. "
   ]
  },
  {
   "attachments": {},
   "cell_type": "markdown",
   "id": "729fefdc-51ed-4579-848a-b186d42f9b08",
   "metadata": {},
   "source": [
    "## Summary and insight through analysis\n",
    "When looking for the benefical and advantageous car options, consumers should give consideration about making an investment in reputable brands found in top section car brands that have strong retain values and provide long-term durability. Besides, automatic transmissions appeal to people who value convenience and cutting-edge technologies, even though they are more costly than manual type. A lower mileage  generally means fewer unexpected repairs and a longer lifespan. Additionally, considering the ownership history should be taken into account, reavealing one or two previous owners are likely to have received better maintenance and are in better shape. Therefore, customers should rely on their demands to meke a suitable and valuable purchase..\r\n"
   ]
  },
  {
   "cell_type": "markdown",
   "id": "b9834c3a-248d-4775-92d5-52ad261efe3d",
   "metadata": {},
   "source": [
    "## Q4. Detect and remove outliers"
   ]
  },
  {
   "cell_type": "code",
   "execution_count": 52,
   "id": "3d6a044f-9e66-46ae-94c0-bfeca7fa39ef",
   "metadata": {},
   "outputs": [
    {
     "data": {
      "text/plain": [
       "5"
      ]
     },
     "execution_count": 52,
     "metadata": {},
     "output_type": "execute_result"
    }
   ],
   "source": [
    "car_clean.owner.nunique()"
   ]
  },
  {
   "cell_type": "code",
   "execution_count": 53,
   "id": "b5c8cd8e-c41d-42bd-892b-9f0e62a6d670",
   "metadata": {},
   "outputs": [
    {
     "data": {
      "text/plain": [
       "owner\n",
       "First Owner             2532\n",
       "Second Owner            1000\n",
       "Third Owner              273\n",
       "Fourth & Above Owner      67\n",
       "Test Drive Car            14\n",
       "Name: count, dtype: int64"
      ]
     },
     "execution_count": 53,
     "metadata": {},
     "output_type": "execute_result"
    }
   ],
   "source": [
    "car_clean.owner.value_counts()"
   ]
  },
  {
   "cell_type": "code",
   "execution_count": 54,
   "id": "8e826ea3-1142-40a9-90c5-f1f140b18804",
   "metadata": {},
   "outputs": [
    {
     "data": {
      "text/plain": [
       "owner\n",
       "First Owner     2532\n",
       "Second Owner    1000\n",
       "Third Owner      273\n",
       "Name: count, dtype: int64"
      ]
     },
     "execution_count": 54,
     "metadata": {},
     "output_type": "execute_result"
    }
   ],
   "source": [
    "#Drop the invalid owner types\n",
    "car_cleaned = car_clean.drop(car_clean.index[(car_clean.owner == 'Fourth & Above Owner') | \n",
    "                                             (car_clean.owner == 'Test Drive Car')])\n",
    "car_cleaned.owner.value_counts()"
   ]
  },
  {
   "cell_type": "code",
   "execution_count": 55,
   "id": "1116b3b9-4011-49bc-addc-acc7e91810b1",
   "metadata": {},
   "outputs": [
    {
     "data": {
      "text/plain": [
       "(3805, 9)"
      ]
     },
     "execution_count": 55,
     "metadata": {},
     "output_type": "execute_result"
    }
   ],
   "source": [
    "car_cleaned.shape"
   ]
  },
  {
   "cell_type": "code",
   "execution_count": 56,
   "id": "d536542f-697e-4add-8167-49159cb63051",
   "metadata": {},
   "outputs": [
    {
     "data": {
      "text/plain": [
       "fuel\n",
       "Diesel      1885\n",
       "Petrol      1866\n",
       "CNG           33\n",
       "LPG           20\n",
       "Electric       1\n",
       "Name: count, dtype: int64"
      ]
     },
     "execution_count": 56,
     "metadata": {},
     "output_type": "execute_result"
    }
   ],
   "source": [
    "car_cleaned.fuel.value_counts()"
   ]
  },
  {
   "cell_type": "code",
   "execution_count": 57,
   "id": "ef67d347-66c4-49ad-b1b1-ea3c2aaaaae0",
   "metadata": {},
   "outputs": [
    {
     "data": {
      "text/plain": [
       "fuel\n",
       "Diesel    1919\n",
       "Petrol    1912\n",
       "Name: count, dtype: int64"
      ]
     },
     "execution_count": 57,
     "metadata": {},
     "output_type": "execute_result"
    }
   ],
   "source": [
    "#Drop the invalid fuel types\n",
    "car_cleaned = car_clean.drop(car_clean.index[(car_clean.fuel == 'CNG') | \n",
    "                                            (car_clean.fuel == 'Electric') | \n",
    "                                            (car_clean.fuel == 'LPG')])\n",
    "car_cleaned.shape\n",
    "car_cleaned.fuel.value_counts()"
   ]
  },
  {
   "cell_type": "code",
   "execution_count": 58,
   "id": "a787432d-1c47-412e-a64c-7e1037ee7766",
   "metadata": {},
   "outputs": [
    {
     "data": {
      "text/plain": [
       "seller_type\n",
       "Individual          2859\n",
       "Dealer               878\n",
       "Trustmark Dealer      94\n",
       "Name: count, dtype: int64"
      ]
     },
     "execution_count": 58,
     "metadata": {},
     "output_type": "execute_result"
    }
   ],
   "source": [
    "car_cleaned.seller_type.value_counts()"
   ]
  },
  {
   "cell_type": "code",
   "execution_count": 59,
   "id": "0d71e9d9-f52e-4f4c-a431-5f8e0cd7671d",
   "metadata": {},
   "outputs": [
    {
     "data": {
      "text/plain": [
       "seller_type\n",
       "Individual    2903\n",
       "Dealer         889\n",
       "Name: count, dtype: int64"
      ]
     },
     "execution_count": 59,
     "metadata": {},
     "output_type": "execute_result"
    }
   ],
   "source": [
    "#Drop the invalid seller_types\n",
    "car_cleaned = car_clean.drop(car_clean.index[(car_clean.seller_type == 'Trustmark Dealer')])\n",
    "car_cleaned.shape\n",
    "car_cleaned.seller_type.value_counts()"
   ]
  }
 ],
 "metadata": {
  "kernelspec": {
   "display_name": "Python 3 (ipykernel)",
   "language": "python",
   "name": "python3"
  },
  "language_info": {
   "codemirror_mode": {
    "name": "ipython",
    "version": 3
   },
   "file_extension": ".py",
   "mimetype": "text/x-python",
   "name": "python",
   "nbconvert_exporter": "python",
   "pygments_lexer": "ipython3",
   "version": "3.11.7"
  }
 },
 "nbformat": 4,
 "nbformat_minor": 5
}
